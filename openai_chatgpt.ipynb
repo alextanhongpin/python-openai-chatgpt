{
  "nbformat": 4,
  "nbformat_minor": 0,
  "metadata": {
    "colab": {
      "provenance": []
    },
    "kernelspec": {
      "name": "python3",
      "display_name": "Python 3"
    },
    "language_info": {
      "name": "python"
    }
  },
  "cells": [
    {
      "cell_type": "markdown",
      "source": [
        "# OpenAI GPT Tutorial\n",
        "\n",
        "Original reference [here](https://holypython.com/python-api-tutorial/openai-gpt-4-api-quick-guide/)"
      ],
      "metadata": {
        "id": "Ow8B5sj60Qk7"
      }
    },
    {
      "cell_type": "code",
      "execution_count": 1,
      "metadata": {
        "colab": {
          "base_uri": "https://localhost:8080/"
        },
        "id": "eGxNFcGjtqtJ",
        "outputId": "6ea60e7f-a294-4953-99b0-7a3edc61cad0"
      },
      "outputs": [
        {
          "output_type": "stream",
          "name": "stdout",
          "text": [
            "\u001b[2K     \u001b[90m━━━━━━━━━━━━━━━━━━━━━━━━━━━━━━━━━━━━━━━━\u001b[0m \u001b[32m70.2/70.2 KB\u001b[0m \u001b[31m1.8 MB/s\u001b[0m eta \u001b[36m0:00:00\u001b[0m\n",
            "\u001b[2K     \u001b[90m━━━━━━━━━━━━━━━━━━━━━━━━━━━━━━━━━━━━━━━━\u001b[0m \u001b[32m1.0/1.0 MB\u001b[0m \u001b[31m8.4 MB/s\u001b[0m eta \u001b[36m0:00:00\u001b[0m\n",
            "\u001b[2K     \u001b[90m━━━━━━━━━━━━━━━━━━━━━━━━━━━━━━━━━━━━━━━\u001b[0m \u001b[32m114.2/114.2 KB\u001b[0m \u001b[31m4.0 MB/s\u001b[0m eta \u001b[36m0:00:00\u001b[0m\n",
            "\u001b[2K     \u001b[90m━━━━━━━━━━━━━━━━━━━━━━━━━━━━━━━━━━━━━━━\u001b[0m \u001b[32m158.8/158.8 KB\u001b[0m \u001b[31m9.6 MB/s\u001b[0m eta \u001b[36m0:00:00\u001b[0m\n",
            "\u001b[2K     \u001b[90m━━━━━━━━━━━━━━━━━━━━━━━━━━━━━━━━━━━━━━━\u001b[0m \u001b[32m264.6/264.6 KB\u001b[0m \u001b[31m9.7 MB/s\u001b[0m eta \u001b[36m0:00:00\u001b[0m\n",
            "\u001b[?25h"
          ]
        }
      ],
      "source": [
        "!pip install -qq openai"
      ]
    },
    {
      "cell_type": "code",
      "source": [
        "import openai\n",
        "\n",
        "openai.api_key = ''"
      ],
      "metadata": {
        "id": "ldaiHkx80ev2"
      },
      "execution_count": 2,
      "outputs": []
    },
    {
      "cell_type": "code",
      "source": [
        "messages = [\n",
        "    {\n",
        "      'role': 'system',\n",
        "      'content': 'You are a senior developer, working in a AI startup'    \n",
        "    },\n",
        "    {\n",
        "      'role': 'user', \n",
        "      'content': 'Write code that implements clean architecture'\n",
        "    }\n",
        "]\n",
        "\n",
        "response = openai.ChatCompletion.create(\n",
        "    model='gpt-3.5-turbo',\n",
        "    max_tokens=500,\n",
        "    temperature=0.7,\n",
        "    messages=messages\n",
        ")\n",
        "print(response)"
      ],
      "metadata": {
        "colab": {
          "base_uri": "https://localhost:8080/"
        },
        "id": "siXQyvMo0qhF",
        "outputId": "989bb5a9-b5c4-4d2c-d127-3a122f19f4ed"
      },
      "execution_count": 12,
      "outputs": [
        {
          "output_type": "stream",
          "name": "stdout",
          "text": [
            "{\n",
            "  \"choices\": [\n",
            "    {\n",
            "      \"finish_reason\": \"stop\",\n",
            "      \"index\": 0,\n",
            "      \"message\": {\n",
            "        \"content\": \"Sure, here is an example of code that implements clean architecture in Python:\\n\\n```\\n# domain.py\\n\\nclass User:\\n    def __init__(self, id: int, username: str, email: str):\\n        self.id = id\\n        self.username = username\\n        self.email = email\\n\\n\\n# use_cases.py\\n\\nclass CreateUserUseCase:\\n    def __init__(self, user_repository):\\n        self.user_repository = user_repository\\n\\n    def execute(self, username: str, email: str) -> User:\\n        user = User(id=None, username=username, email=email)\\n        return self.user_repository.add(user)\\n\\n\\n# interfaces.py\\n\\nclass UserRepository:\\n    def add(self, user: User) -> User:\\n        pass\\n\\n\\n# infrastructure.py\\n\\nclass InMemoryUserRepository(UserRepository):\\n    def __init__(self):\\n        self.users = []\\n\\n    def add(self, user: User) -> User:\\n        user.id = len(self.users) + 1\\n        self.users.append(user)\\n        return user\\n\\n\\n# app.py\\n\\nuser_repository = InMemoryUserRepository()\\ncreate_user_use_case = CreateUserUseCase(user_repository=user_repository)\\n\\nuser = create_user_use_case.execute(username=\\\"johndoe\\\", email=\\\"johndoe@example.com\\\")\\nprint(user.id, user.username, user.email)\\n```\\n\\nThis code follows the principles of clean architecture by separating concerns into distinct layers:\\n\\n- `domain.py`: contains the domain entities and business logic (the `User` class).\\n- `use_cases.py`: contains the application-specific use cases (the `CreateUserUseCase` class).\\n- `interfaces.py`: defines the interfaces that the application depends on, such as repositories (the `UserRepository` interface).\\n- `infrastructure.py`: contains the concrete implementations of the interfaces (the `InMemoryUserRepository` class).\\n- `app.py`: connects the different layers together and executes the use case.\\n\\nBy following this architecture, the code becomes more modular, testable, and maintainable. For example, if we wanted to switch to a different type of database, we could create a new implementation of the `UserRepository` interface without changing any of the other layers.\",\n",
            "        \"role\": \"assistant\"\n",
            "      }\n",
            "    }\n",
            "  ],\n",
            "  \"created\": 1680621662,\n",
            "  \"id\": \"chatcmpl-71ckwB4WwgArSrnkajhZV1zyt3mUI\",\n",
            "  \"model\": \"gpt-3.5-turbo-0301\",\n",
            "  \"object\": \"chat.completion\",\n",
            "  \"usage\": {\n",
            "    \"completion_tokens\": 440,\n",
            "    \"prompt_tokens\": 30,\n",
            "    \"total_tokens\": 470\n",
            "  }\n",
            "}\n"
          ]
        }
      ]
    },
    {
      "cell_type": "code",
      "source": [
        "for choice in response.choices:\n",
        "  print(choice.message.content)"
      ],
      "metadata": {
        "colab": {
          "base_uri": "https://localhost:8080/"
        },
        "id": "8zzxRRUv0-Dd",
        "outputId": "5fbca4e3-4d48-440d-9724-4b5addace954"
      },
      "execution_count": 13,
      "outputs": [
        {
          "output_type": "stream",
          "name": "stdout",
          "text": [
            "Sure, here is an example of code that implements clean architecture in Python:\n",
            "\n",
            "```\n",
            "# domain.py\n",
            "\n",
            "class User:\n",
            "    def __init__(self, id: int, username: str, email: str):\n",
            "        self.id = id\n",
            "        self.username = username\n",
            "        self.email = email\n",
            "\n",
            "\n",
            "# use_cases.py\n",
            "\n",
            "class CreateUserUseCase:\n",
            "    def __init__(self, user_repository):\n",
            "        self.user_repository = user_repository\n",
            "\n",
            "    def execute(self, username: str, email: str) -> User:\n",
            "        user = User(id=None, username=username, email=email)\n",
            "        return self.user_repository.add(user)\n",
            "\n",
            "\n",
            "# interfaces.py\n",
            "\n",
            "class UserRepository:\n",
            "    def add(self, user: User) -> User:\n",
            "        pass\n",
            "\n",
            "\n",
            "# infrastructure.py\n",
            "\n",
            "class InMemoryUserRepository(UserRepository):\n",
            "    def __init__(self):\n",
            "        self.users = []\n",
            "\n",
            "    def add(self, user: User) -> User:\n",
            "        user.id = len(self.users) + 1\n",
            "        self.users.append(user)\n",
            "        return user\n",
            "\n",
            "\n",
            "# app.py\n",
            "\n",
            "user_repository = InMemoryUserRepository()\n",
            "create_user_use_case = CreateUserUseCase(user_repository=user_repository)\n",
            "\n",
            "user = create_user_use_case.execute(username=\"johndoe\", email=\"johndoe@example.com\")\n",
            "print(user.id, user.username, user.email)\n",
            "```\n",
            "\n",
            "This code follows the principles of clean architecture by separating concerns into distinct layers:\n",
            "\n",
            "- `domain.py`: contains the domain entities and business logic (the `User` class).\n",
            "- `use_cases.py`: contains the application-specific use cases (the `CreateUserUseCase` class).\n",
            "- `interfaces.py`: defines the interfaces that the application depends on, such as repositories (the `UserRepository` interface).\n",
            "- `infrastructure.py`: contains the concrete implementations of the interfaces (the `InMemoryUserRepository` class).\n",
            "- `app.py`: connects the different layers together and executes the use case.\n",
            "\n",
            "By following this architecture, the code becomes more modular, testable, and maintainable. For example, if we wanted to switch to a different type of database, we could create a new implementation of the `UserRepository` interface without changing any of the other layers.\n"
          ]
        }
      ]
    },
    {
      "cell_type": "code",
      "source": [],
      "metadata": {
        "id": "BxzFH0B91EgN"
      },
      "execution_count": 11,
      "outputs": []
    },
    {
      "cell_type": "code",
      "source": [],
      "metadata": {
        "id": "iD83CxOV2iJk"
      },
      "execution_count": null,
      "outputs": []
    }
  ]
}